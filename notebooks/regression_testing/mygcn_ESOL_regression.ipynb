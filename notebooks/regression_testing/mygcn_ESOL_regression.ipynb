{
 "cells": [
  {
   "cell_type": "markdown",
   "metadata": {},
   "source": [
    "# Comparing PatWalters ESOL results with those from our own regressor #\n",
    "\n",
    "Walters' nice post on the topic can be found at http://practicalcheminformatics.blogspot.com/2018/09/predicting-aqueous-solubility-its.html\n",
    "\n",
    "All of his code can also be found in [this github repo](https://github.com/PatWalters/solubility) "
   ]
  },
  {
   "cell_type": "code",
   "execution_count": 55,
   "metadata": {},
   "outputs": [],
   "source": [
    "import sys\n",
    "sys.path.insert(0, '../../')\n",
    "\n",
    "import mygcn"
   ]
  },
  {
   "cell_type": "code",
   "execution_count": 56,
   "metadata": {},
   "outputs": [],
   "source": [
    "%reload_ext autoreload\n",
    "%autoreload 2"
   ]
  },
  {
   "cell_type": "code",
   "execution_count": 140,
   "metadata": {},
   "outputs": [],
   "source": [
    "from mygcn import features\n",
    "from mygcn import gcn\n",
    "from mygcn import train\n",
    "from mygcn import evaluation"
   ]
  },
  {
   "cell_type": "code",
   "execution_count": 58,
   "metadata": {},
   "outputs": [],
   "source": [
    "import numpy as np\n",
    "import pandas as pd\n",
    "import matplotlib.pyplot as plt\n",
    "%matplotlib inline\n",
    "\n",
    "import torch\n",
    "import torch.optim as optim\n",
    "import torch.nn as nn\n",
    "from torch.utils.data import DataLoader\n",
    "import dgl"
   ]
  },
  {
   "cell_type": "code",
   "execution_count": 59,
   "metadata": {},
   "outputs": [],
   "source": [
    "from rdkit import Chem\n",
    "from rdkit.Chem import RDConfig\n",
    "import os"
   ]
  },
  {
   "cell_type": "code",
   "execution_count": 124,
   "metadata": {},
   "outputs": [],
   "source": [
    "# had to remove methane, b/c feature code doesnt work for thing only with self node\n",
    "train_dl, valid_dl, test_dl = features.get_graph_data('delaney.csv',\n",
    "                                      smiles_field='SMILES',\n",
    "                                      labels_field='measured log(solubility:mol/L)',\n",
    "                                      train_size=0.8,\n",
    "                                      valid_size=0.1,\n",
    "                                      self_edges=True,\n",
    "                                      edge_features=True,\n",
    "                                      seed=13)"
   ]
  },
  {
   "cell_type": "code",
   "execution_count": 125,
   "metadata": {},
   "outputs": [],
   "source": [
    "num_features = features.get_num_atom_features() + features.get_num_bond_features()\n",
    "learning_rate = 0.001\n",
    "\n",
    "model = gcn.DeepChemGCNRegressor(n_inputs=num_features,\n",
    "                                 n_hidden=64,\n",
    "                                 n_hidden_layers=2,\n",
    "                                 n_outputs=1,\n",
    "                                 dropout=0.1)\n",
    "loss_func = nn.MSELoss()\n",
    "opt = optim.Adam(model.parameters(), lr=learning_rate)"
   ]
  },
  {
   "cell_type": "code",
   "execution_count": 126,
   "metadata": {},
   "outputs": [
    {
     "name": "stdout",
     "output_type": "stream",
     "text": [
      "DeepChemGCNRegressor(\n",
      "  (dropout): Dropout(p=0.1)\n",
      "  (layers): ModuleList(\n",
      "    (0): GraphConvLayer(\n",
      "      (linear): Linear(in_features=73, out_features=64, bias=True)\n",
      "    )\n",
      "    (1): BatchNormLayer(\n",
      "      (bn): BatchNorm1d(64, eps=1e-05, momentum=0.1, affine=True, track_running_stats=True)\n",
      "    )\n",
      "    (2): GraphPoolLayer()\n",
      "    (3): GraphConvLayer(\n",
      "      (linear): Linear(in_features=64, out_features=64, bias=True)\n",
      "    )\n",
      "    (4): BatchNormLayer(\n",
      "      (bn): BatchNorm1d(64, eps=1e-05, momentum=0.1, affine=True, track_running_stats=True)\n",
      "    )\n",
      "    (5): GraphPoolLayer()\n",
      "  )\n",
      "  (dense_layer): Linear(in_features=64, out_features=128, bias=True)\n",
      "  (final_bn): BatchNorm1d(128, eps=1e-05, momentum=0.1, affine=True, track_running_stats=True)\n",
      "  (prediction_layer): Linear(in_features=128, out_features=1, bias=True)\n",
      ")\n"
     ]
    }
   ],
   "source": [
    "print(model)"
   ]
  },
  {
   "cell_type": "code",
   "execution_count": 127,
   "metadata": {},
   "outputs": [
    {
     "name": "stdout",
     "output_type": "stream",
     "text": [
      "Epoch 0, train loss 0.3790 valid loss 0.34598570539240253\n",
      "Epoch 2, train loss 0.1984 valid loss 0.2528736842306037\n",
      "Epoch 4, train loss 0.0607 valid loss 0.24517574644925302\n",
      "Epoch 6, train loss 0.0405 valid loss 0.24881528134931596\n",
      "Epoch 8, train loss 0.0329 valid loss 0.28065985127499227\n",
      "Epoch 10, train loss 0.0290 valid loss 0.28439382084628995\n",
      "Epoch 12, train loss 0.0267 valid loss 0.2519476371898986\n",
      "Epoch 14, train loss 0.0247 valid loss 0.2596116149634646\n",
      "Epoch 16, train loss 0.0214 valid loss 0.2701522007323148\n",
      "Epoch 18, train loss 0.0215 valid loss 0.2753318276321679\n",
      "CPU times: user 1min 52s, sys: 329 ms, total: 1min 52s\n",
      "Wall time: 38.8 s\n"
     ]
    }
   ],
   "source": [
    "%%time\n",
    "train.fit(model, train_dl, valid_dl, loss_func, opt, n_epochs=20,\n",
    "          report_valid_loss=True)"
   ]
  },
  {
   "cell_type": "code",
   "execution_count": 149,
   "metadata": {},
   "outputs": [
    {
     "name": "stdout",
     "output_type": "stream",
     "text": [
      "test_loss:  0.015612033398255058\n",
      "***\n",
      "RMSE:  0.6930116\n",
      "RMSE CI:  (0.5963088449907235, 0.7777826603072564)\n",
      "***\n",
      "MAE:  0.5516355\n",
      "MAE CI:  [0.49128002, 0.6170165]\n",
      "***\n",
      "R^2:  0.8293499720270193\n",
      "R^2 CI:  (0.7745354116512831, 0.8719049552094038)\n"
     ]
    }
   ],
   "source": [
    "evaluation.evaluate_regressor(model, test_dl, loss_func)"
   ]
  },
  {
   "cell_type": "markdown",
   "metadata": {},
   "source": [
    "# Now try on that independent test set #"
   ]
  },
  {
   "cell_type": "code",
   "execution_count": 145,
   "metadata": {},
   "outputs": [],
   "source": [
    "independent_test_dl,_,_ = features.get_graph_data('dls_100_unique.csv',\n",
    "                                      smiles_field='SMILES',\n",
    "                                      labels_field='LogS exp (mol/L)',\n",
    "                                      train_size=1.0,\n",
    "                                      valid_size=0.0,\n",
    "                                      self_edges=True,\n",
    "                                      edge_features=True,\n",
    "                                      seed=13)"
   ]
  },
  {
   "cell_type": "code",
   "execution_count": 150,
   "metadata": {},
   "outputs": [
    {
     "name": "stdout",
     "output_type": "stream",
     "text": [
      "test_loss:  0.04954068149839129\n",
      "***\n",
      "RMSE:  1.1629573\n",
      "RMSE CI:  (0.9203120304136536, 1.3630719642000126)\n",
      "***\n",
      "MAE:  0.9592582\n",
      "MAE CI:  [0.8299284, 1.1157275]\n",
      "***\n",
      "R^2:  0.508747988797586\n",
      "R^2 CI:  (0.3405562318420812, 0.6520205437477077)\n"
     ]
    }
   ],
   "source": [
    "evaluation.evaluate_regressor(model, independent_test_dl, loss_func)"
   ]
  },
  {
   "cell_type": "markdown",
   "metadata": {},
   "source": [
    "These results seem to agree with those found by Pat Walters"
   ]
  },
  {
   "cell_type": "code",
   "execution_count": null,
   "metadata": {},
   "outputs": [],
   "source": []
  }
 ],
 "metadata": {
  "kernelspec": {
   "display_name": "Python 3",
   "language": "python",
   "name": "python3"
  },
  "language_info": {
   "codemirror_mode": {
    "name": "ipython",
    "version": 3
   },
   "file_extension": ".py",
   "mimetype": "text/x-python",
   "name": "python",
   "nbconvert_exporter": "python",
   "pygments_lexer": "ipython3",
   "version": "3.6.8"
  }
 },
 "nbformat": 4,
 "nbformat_minor": 2
}

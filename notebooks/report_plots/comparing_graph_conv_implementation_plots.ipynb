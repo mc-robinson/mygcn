{
 "cells": [
  {
   "cell_type": "markdown",
   "metadata": {},
   "source": [
    "# Comparing Graph Convolutional Networks\n",
    "    - Matt Robinson\n",
    "    \n",
    "This notebook shows the code to repreduce the plots comparing our graph convolutional network (GCN) with DeepChem's implementation:"
   ]
  },
  {
   "cell_type": "markdown",
   "metadata": {},
   "source": [
    "### First Compile Data: ###"
   ]
  },
  {
   "cell_type": "markdown",
   "metadata": {},
   "source": [
    "#### The JAK3 Dataset #### \n",
    "(size of test set: N=180)\n",
    "\n",
    "Our accuracy: 0.806 <br>\n",
    "DeepChem accuracy: 0.756\n",
    "\n",
    "We need error bars for accuracy, since our estimate can be quite sensitive to the train/test split and/or model initialization. We will get the confidence interval using the normal approximation, as explained by Raschka in https://arxiv.org/abs/1811.12808. This makes the assumption that the predictions follow a normal distribution.\n",
    "\n",
    "Our confidence interval is given by \n",
    "\n",
    "$$\n",
    "A C C_{S} \\pm z \\sqrt{\\frac{1}{n} A C C_{S}\\left(1-A C C_{S}\\right)}\n",
    "$$\n",
    "\n",
    "where $A C C_{S}$ is the accuracy on the set $S$ and $z$ is the $(1-\\frac{\\alpha}{2})$ quantile of a standard normal distribution. For a 95% CI, we set $z=1.96$:"
   ]
  },
  {
   "cell_type": "code",
   "execution_count": 1,
   "metadata": {},
   "outputs": [],
   "source": [
    "import numpy as np\n",
    "import pandas as pd\n",
    "import matplotlib.pyplot as plt\n",
    "%matplotlib inline"
   ]
  },
  {
   "cell_type": "code",
   "execution_count": 3,
   "metadata": {},
   "outputs": [],
   "source": [
    "def CI(acc, N):\n",
    "    lower_limit = acc - 1.96*np.sqrt(acc*(1-acc)*(1/N))\n",
    "    upper_limit = acc + 1.96*np.sqrt(acc*(1-acc)*(1/N))\n",
    "    return lower_limit, upper_limit    "
   ]
  },
  {
   "cell_type": "code",
   "execution_count": 4,
   "metadata": {},
   "outputs": [
    {
     "data": {
      "text/plain": [
       "(0.7482318839189337, 0.8637681160810664)"
      ]
     },
     "execution_count": 4,
     "metadata": {},
     "output_type": "execute_result"
    }
   ],
   "source": [
    "# our CI\n",
    "CI(0.806, 180)"
   ]
  },
  {
   "cell_type": "code",
   "execution_count": 5,
   "metadata": {},
   "outputs": [
    {
     "data": {
      "text/plain": [
       "(0.693255504783288, 0.818744495216712)"
      ]
     },
     "execution_count": 5,
     "metadata": {},
     "output_type": "execute_result"
    }
   ],
   "source": [
    "# their CI\n",
    "CI(0.756, 180)"
   ]
  },
  {
   "cell_type": "markdown",
   "metadata": {},
   "source": [
    "Now we also need the AUC data:\n",
    "\n",
    "Our AUC: mean = 0.798, CI = (0.734, 0.856) <br>\n",
    "DeepChem AUC: mean = 0.776, CI = (0.716, 0.840)"
   ]
  },
  {
   "cell_type": "code",
   "execution_count": 95,
   "metadata": {},
   "outputs": [],
   "source": [
    "# create pandas dataframe for use with altair\n",
    "jak3_df = pd.DataFrame(columns=['mean', 'lower_CI', 'upper_CI', 'method', 'metric'])"
   ]
  },
  {
   "cell_type": "code",
   "execution_count": 96,
   "metadata": {},
   "outputs": [],
   "source": [
    "jak3_df = jak3_df.append({'mean':0.806,\n",
    "                'lower_CI':0.748,\n",
    "                'upper_CI':0.864,\n",
    "                'method':'mygcn',\n",
    "                'metric':'Accuracy'}, ignore_index=True)\n",
    "\n",
    "jak3_df = jak3_df.append({'mean':0.756,\n",
    "                'lower_CI':0.693,\n",
    "                'upper_CI':0.819,\n",
    "                'method':'DC',\n",
    "                'metric':'Accuracy'}, ignore_index=True)\n",
    "\n",
    "jak3_df = jak3_df.append({'mean':0.798,\n",
    "                'lower_CI':0.734,\n",
    "                'upper_CI':0.856,\n",
    "                'method':'mygcn',\n",
    "                'metric':'AUC'}, ignore_index=True)\n",
    "\n",
    "jak3_df = jak3_df.append({'mean':0.776,\n",
    "                'lower_CI':0.716,\n",
    "                'upper_CI':0.840,\n",
    "                'method':'DC',\n",
    "                'metric':'AUC'}, ignore_index=True)\n"
   ]
  },
  {
   "cell_type": "code",
   "execution_count": 97,
   "metadata": {},
   "outputs": [
    {
     "data": {
      "text/html": [
       "<div>\n",
       "<style scoped>\n",
       "    .dataframe tbody tr th:only-of-type {\n",
       "        vertical-align: middle;\n",
       "    }\n",
       "\n",
       "    .dataframe tbody tr th {\n",
       "        vertical-align: top;\n",
       "    }\n",
       "\n",
       "    .dataframe thead th {\n",
       "        text-align: right;\n",
       "    }\n",
       "</style>\n",
       "<table border=\"1\" class=\"dataframe\">\n",
       "  <thead>\n",
       "    <tr style=\"text-align: right;\">\n",
       "      <th></th>\n",
       "      <th>mean</th>\n",
       "      <th>lower_CI</th>\n",
       "      <th>upper_CI</th>\n",
       "      <th>method</th>\n",
       "      <th>metric</th>\n",
       "    </tr>\n",
       "  </thead>\n",
       "  <tbody>\n",
       "    <tr>\n",
       "      <th>0</th>\n",
       "      <td>0.806</td>\n",
       "      <td>0.748</td>\n",
       "      <td>0.864</td>\n",
       "      <td>mygcn</td>\n",
       "      <td>Accuracy</td>\n",
       "    </tr>\n",
       "    <tr>\n",
       "      <th>1</th>\n",
       "      <td>0.756</td>\n",
       "      <td>0.693</td>\n",
       "      <td>0.819</td>\n",
       "      <td>DC</td>\n",
       "      <td>Accuracy</td>\n",
       "    </tr>\n",
       "    <tr>\n",
       "      <th>2</th>\n",
       "      <td>0.798</td>\n",
       "      <td>0.734</td>\n",
       "      <td>0.856</td>\n",
       "      <td>mygcn</td>\n",
       "      <td>AUC</td>\n",
       "    </tr>\n",
       "    <tr>\n",
       "      <th>3</th>\n",
       "      <td>0.776</td>\n",
       "      <td>0.716</td>\n",
       "      <td>0.840</td>\n",
       "      <td>DC</td>\n",
       "      <td>AUC</td>\n",
       "    </tr>\n",
       "  </tbody>\n",
       "</table>\n",
       "</div>"
      ],
      "text/plain": [
       "    mean  lower_CI  upper_CI method    metric\n",
       "0  0.806     0.748     0.864  mygcn  Accuracy\n",
       "1  0.756     0.693     0.819     DC  Accuracy\n",
       "2  0.798     0.734     0.856  mygcn       AUC\n",
       "3  0.776     0.716     0.840     DC       AUC"
      ]
     },
     "execution_count": 97,
     "metadata": {},
     "output_type": "execute_result"
    }
   ],
   "source": [
    "jak3_df"
   ]
  },
  {
   "cell_type": "code",
   "execution_count": 98,
   "metadata": {},
   "outputs": [
    {
     "data": {
      "text/plain": [
       "RendererRegistry.enable('notebook')"
      ]
     },
     "execution_count": 98,
     "metadata": {},
     "output_type": "execute_result"
    }
   ],
   "source": [
    "import altair as alt\n",
    "alt.renderers.enable('notebook')"
   ]
  },
  {
   "cell_type": "code",
   "execution_count": 99,
   "metadata": {},
   "outputs": [
    {
     "data": {
      "application/javascript": [
       "var spec = {\"config\": {\"view\": {\"width\": 400, \"height\": 300}}, \"data\": {\"name\": \"data-724ba0b3fc72e2cc451fea2721e89ddb\"}, \"facet\": {\"column\": {\"type\": \"nominal\", \"field\": \"metric\", \"header\": {\"titleBaseline\": \"bottom\", \"titleFontWeight\": \"bold\"}, \"title\": \"JAK3 Dataset\"}}, \"spec\": {\"layer\": [{\"mark\": \"bar\", \"encoding\": {\"color\": {\"type\": \"nominal\", \"field\": \"method\", \"legend\": null}, \"x\": {\"type\": \"ordinal\", \"axis\": {\"title\": \"\"}, \"field\": \"method\"}, \"y\": {\"type\": \"quantitative\", \"axis\": {\"grid\": false, \"title\": \"score\"}, \"field\": \"mean\"}}}, {\"mark\": {\"type\": \"rule\", \"color\": \"black\"}, \"encoding\": {\"color\": {\"type\": \"nominal\", \"field\": \"method\", \"legend\": null}, \"x\": {\"type\": \"ordinal\", \"field\": \"method\"}, \"y\": {\"type\": \"quantitative\", \"field\": \"lower_CI\"}, \"y2\": {\"type\": \"quantitative\", \"field\": \"upper_CI\"}}}]}, \"$schema\": \"https://vega.github.io/schema/vega-lite/v2.6.0.json\", \"datasets\": {\"data-724ba0b3fc72e2cc451fea2721e89ddb\": [{\"mean\": 0.806, \"lower_CI\": 0.748, \"upper_CI\": 0.864, \"method\": \"mygcn\", \"metric\": \"Accuracy\"}, {\"mean\": 0.756, \"lower_CI\": 0.693, \"upper_CI\": 0.819, \"method\": \"DC\", \"metric\": \"Accuracy\"}, {\"mean\": 0.798, \"lower_CI\": 0.734, \"upper_CI\": 0.856, \"method\": \"mygcn\", \"metric\": \"AUC\"}, {\"mean\": 0.776, \"lower_CI\": 0.716, \"upper_CI\": 0.84, \"method\": \"DC\", \"metric\": \"AUC\"}]}};\n",
       "var opt = {};\n",
       "var type = \"vega-lite\";\n",
       "var id = \"f6fcc942-f3f6-4691-9a0e-99f60ded9976\";\n",
       "\n",
       "var output_area = this;\n",
       "\n",
       "require([\"nbextensions/jupyter-vega/index\"], function(vega) {\n",
       "  var target = document.createElement(\"div\");\n",
       "  target.id = id;\n",
       "  target.className = \"vega-embed\";\n",
       "\n",
       "  var style = document.createElement(\"style\");\n",
       "  style.textContent = [\n",
       "    \".vega-embed .error p {\",\n",
       "    \"  color: firebrick;\",\n",
       "    \"  font-size: 14px;\",\n",
       "    \"}\",\n",
       "  ].join(\"\\\\n\");\n",
       "\n",
       "  // element is a jQuery wrapped DOM element inside the output area\n",
       "  // see http://ipython.readthedocs.io/en/stable/api/generated/\\\n",
       "  // IPython.display.html#IPython.display.Javascript.__init__\n",
       "  element[0].appendChild(target);\n",
       "  element[0].appendChild(style);\n",
       "\n",
       "  vega.render(\"#\" + id, spec, type, opt, output_area);\n",
       "}, function (err) {\n",
       "  if (err.requireType !== \"scripterror\") {\n",
       "    throw(err);\n",
       "  }\n",
       "});\n"
      ],
      "text/plain": [
       "<vega.vegalite.VegaLite at 0x11d671518>"
      ]
     },
     "metadata": {
      "jupyter-vega": "#f6fcc942-f3f6-4691-9a0e-99f60ded9976"
     },
     "output_type": "display_data"
    },
    {
     "data": {
      "text/plain": []
     },
     "execution_count": 99,
     "metadata": {},
     "output_type": "execute_result"
    },
    {
     "data": {
      "image/png": "[encoded data removed]"
     },
     "metadata": {
      "jupyter-vega": "#f6fcc942-f3f6-4691-9a0e-99f60ded9976"
     },
     "output_type": "display_data"
    }
   ],
   "source": [
    "source = jak3_df\n",
    "\n",
    "bars = alt.Chart().mark_bar().encode(\n",
    "    x= alt.X('method:O',axis=alt.Axis(title='') ),\n",
    "    y= alt.Y('mean:Q', axis=alt.Axis(title='score', grid=False)),\n",
    "    color= alt.Color('method:N',legend=None),\n",
    ")\n",
    "\n",
    "CI_bars = bars.mark_rule(color='black').encode(\n",
    "    x=\"method:O\",\n",
    "    y=\"lower_CI:Q\",\n",
    "    y2=\"upper_CI:Q\",\n",
    ")\n",
    "\n",
    "alt.layer(bars, CI_bars, data=source).facet(\n",
    "    column= alt.Column('metric:N', title='JAK3 Dataset',\n",
    "                       header=alt.Header(\n",
    "                           titleBaseline='bottom',\n",
    "                           titleFontWeight='bold'))\n",
    ")"
   ]
  },
  {
   "cell_type": "code",
   "execution_count": 100,
   "metadata": {},
   "outputs": [
    {
     "data": {
      "application/javascript": [
       "var spec = {\"config\": {\"view\": {\"width\": 400, \"height\": 300}}, \"data\": {\"name\": \"data-724ba0b3fc72e2cc451fea2721e89ddb\"}, \"facet\": {\"column\": {\"type\": \"nominal\", \"field\": \"metric\", \"title\": \"JAK3 Dataset\"}}, \"spec\": {\"layer\": [{\"mark\": {\"type\": \"point\", \"filled\": true, \"size\": 50}, \"encoding\": {\"color\": {\"type\": \"nominal\", \"field\": \"method\"}, \"x\": {\"type\": \"ordinal\", \"axis\": {\"title\": \"\"}, \"field\": \"method\"}, \"y\": {\"type\": \"quantitative\", \"axis\": {\"grid\": true, \"title\": \"score\"}, \"field\": \"mean\"}}}, {\"mark\": \"rule\", \"encoding\": {\"color\": {\"type\": \"nominal\", \"field\": \"method\"}, \"x\": {\"type\": \"ordinal\", \"field\": \"method\"}, \"y\": {\"type\": \"quantitative\", \"field\": \"lower_CI\"}, \"y2\": {\"type\": \"quantitative\", \"field\": \"upper_CI\"}}}]}, \"$schema\": \"https://vega.github.io/schema/vega-lite/v2.6.0.json\", \"datasets\": {\"data-724ba0b3fc72e2cc451fea2721e89ddb\": [{\"mean\": 0.806, \"lower_CI\": 0.748, \"upper_CI\": 0.864, \"method\": \"mygcn\", \"metric\": \"Accuracy\"}, {\"mean\": 0.756, \"lower_CI\": 0.693, \"upper_CI\": 0.819, \"method\": \"DC\", \"metric\": \"Accuracy\"}, {\"mean\": 0.798, \"lower_CI\": 0.734, \"upper_CI\": 0.856, \"method\": \"mygcn\", \"metric\": \"AUC\"}, {\"mean\": 0.776, \"lower_CI\": 0.716, \"upper_CI\": 0.84, \"method\": \"DC\", \"metric\": \"AUC\"}]}};\n",
       "var opt = {};\n",
       "var type = \"vega-lite\";\n",
       "var id = \"525bbfee-7b3b-4bf2-b1de-08e5db554319\";\n",
       "\n",
       "var output_area = this;\n",
       "\n",
       "require([\"nbextensions/jupyter-vega/index\"], function(vega) {\n",
       "  var target = document.createElement(\"div\");\n",
       "  target.id = id;\n",
       "  target.className = \"vega-embed\";\n",
       "\n",
       "  var style = document.createElement(\"style\");\n",
       "  style.textContent = [\n",
       "    \".vega-embed .error p {\",\n",
       "    \"  color: firebrick;\",\n",
       "    \"  font-size: 14px;\",\n",
       "    \"}\",\n",
       "  ].join(\"\\\\n\");\n",
       "\n",
       "  // element is a jQuery wrapped DOM element inside the output area\n",
       "  // see http://ipython.readthedocs.io/en/stable/api/generated/\\\n",
       "  // IPython.display.html#IPython.display.Javascript.__init__\n",
       "  element[0].appendChild(target);\n",
       "  element[0].appendChild(style);\n",
       "\n",
       "  vega.render(\"#\" + id, spec, type, opt, output_area);\n",
       "}, function (err) {\n",
       "  if (err.requireType !== \"scripterror\") {\n",
       "    throw(err);\n",
       "  }\n",
       "});\n"
      ],
      "text/plain": [
       "<vega.vegalite.VegaLite at 0x11d566940>"
      ]
     },
     "metadata": {
      "jupyter-vega": "#525bbfee-7b3b-4bf2-b1de-08e5db554319"
     },
     "output_type": "display_data"
    },
    {
     "data": {
      "text/plain": []
     },
     "execution_count": 100,
     "metadata": {},
     "output_type": "execute_result"
    },
    {
     "data": {
      "image/png": "[encoded data removed]"
     },
     "metadata": {
      "jupyter-vega": "#525bbfee-7b3b-4bf2-b1de-08e5db554319"
     },
     "output_type": "display_data"
    }
   ],
   "source": [
    "source = jak3_df\n",
    "\n",
    "points = alt.Chart().mark_point(filled=True, size=50).encode(\n",
    "    x= alt.X('method:O',axis=alt.Axis(title='') ),\n",
    "    y= alt.Y('mean:Q', axis=alt.Axis(title='score', grid=True)),\n",
    "    color = 'method:N'\n",
    ")\n",
    "\n",
    "CI_bars = points.mark_rule().encode(\n",
    "    x=\"method:O\",\n",
    "    y=\"lower_CI:Q\",\n",
    "    y2=\"upper_CI:Q\",\n",
    ")\n",
    "\n",
    "\n",
    "alt.layer(points, CI_bars, data=source).facet(\n",
    "    column= alt.Column('metric:N', title='JAK3 Dataset')\n",
    ")"
   ]
  },
  {
   "cell_type": "markdown",
   "metadata": {},
   "source": [
    "#### Solubility Dataset ####\n",
    "\n",
    "(size of test set: N=257)\n",
    "\n",
    "Our accuracy: 0.770 <br>\n",
    "DeepChem accuracy: 0.770"
   ]
  },
  {
   "cell_type": "code",
   "execution_count": 101,
   "metadata": {},
   "outputs": [
    {
     "data": {
      "text/plain": [
       "(0.7185484111788771, 0.8214515888211229)"
      ]
     },
     "execution_count": 101,
     "metadata": {},
     "output_type": "execute_result"
    }
   ],
   "source": [
    "# both CIs\n",
    "CI(0.770, 257)"
   ]
  },
  {
   "cell_type": "markdown",
   "metadata": {},
   "source": [
    "Now we also need the AUC data:\n",
    "\n",
    "Our AUC: mean = 0.916, CI = (0.901, 0.931) <br>\n",
    "DeepChem AUC: mean = 0.916, CI = (0.900, 0.931)"
   ]
  },
  {
   "cell_type": "code",
   "execution_count": 102,
   "metadata": {},
   "outputs": [],
   "source": [
    "# create pandas dataframe for use with altair\n",
    "sol_df = pd.DataFrame(columns=['mean', 'lower_CI', 'upper_CI', 'method', 'metric'])"
   ]
  },
  {
   "cell_type": "code",
   "execution_count": 103,
   "metadata": {},
   "outputs": [],
   "source": [
    "sol_df = sol_df.append({'mean':0.770,\n",
    "                'lower_CI':0.719,\n",
    "                'upper_CI':0.821,\n",
    "                'method':'mygcn',\n",
    "                'metric':'Accuracy'}, ignore_index=True)\n",
    "\n",
    "sol_df = sol_df.append({'mean':0.770,\n",
    "                'lower_CI':0.719,\n",
    "                'upper_CI':0.821,\n",
    "                'method':'DC',\n",
    "                'metric':'Accuracy'}, ignore_index=True)\n",
    "\n",
    "sol_df = sol_df.append({'mean':0.916,\n",
    "                'lower_CI':0.901,\n",
    "                'upper_CI':0.931,\n",
    "                'method':'mygcn',\n",
    "                'metric':'AUC'}, ignore_index=True)\n",
    "\n",
    "sol_df = sol_df.append({'mean':0.916,\n",
    "                'lower_CI':0.900,\n",
    "                'upper_CI':0.931,\n",
    "                'method':'DC',\n",
    "                'metric':'AUC'}, ignore_index=True)\n"
   ]
  },
  {
   "cell_type": "code",
   "execution_count": 104,
   "metadata": {},
   "outputs": [
    {
     "data": {
      "application/javascript": [
       "var spec = {\"config\": {\"view\": {\"width\": 400, \"height\": 300}}, \"data\": {\"name\": \"data-32dd5873630731d35dcc00372f4004b8\"}, \"facet\": {\"column\": {\"type\": \"nominal\", \"field\": \"metric\", \"title\": \"RDKIT Solubility Dataset\"}}, \"spec\": {\"layer\": [{\"mark\": {\"type\": \"point\", \"filled\": true, \"size\": 50}, \"encoding\": {\"color\": {\"type\": \"nominal\", \"field\": \"method\"}, \"x\": {\"type\": \"ordinal\", \"axis\": {\"title\": \"\"}, \"field\": \"method\"}, \"y\": {\"type\": \"quantitative\", \"axis\": {\"grid\": true, \"title\": \"score\"}, \"field\": \"mean\"}}}, {\"mark\": \"rule\", \"encoding\": {\"color\": {\"type\": \"nominal\", \"field\": \"method\"}, \"x\": {\"type\": \"ordinal\", \"field\": \"method\"}, \"y\": {\"type\": \"quantitative\", \"field\": \"lower_CI\"}, \"y2\": {\"type\": \"quantitative\", \"field\": \"upper_CI\"}}}]}, \"$schema\": \"https://vega.github.io/schema/vega-lite/v2.6.0.json\", \"datasets\": {\"data-32dd5873630731d35dcc00372f4004b8\": [{\"mean\": 0.77, \"lower_CI\": 0.719, \"upper_CI\": 0.821, \"method\": \"mygcn\", \"metric\": \"Accuracy\"}, {\"mean\": 0.77, \"lower_CI\": 0.719, \"upper_CI\": 0.821, \"method\": \"DC\", \"metric\": \"Accuracy\"}, {\"mean\": 0.916, \"lower_CI\": 0.901, \"upper_CI\": 0.931, \"method\": \"mygcn\", \"metric\": \"AUC\"}, {\"mean\": 0.916, \"lower_CI\": 0.9, \"upper_CI\": 0.931, \"method\": \"DC\", \"metric\": \"AUC\"}]}};\n",
       "var opt = {};\n",
       "var type = \"vega-lite\";\n",
       "var id = \"abb95358-47e1-4825-b1ad-cfa520979193\";\n",
       "\n",
       "var output_area = this;\n",
       "\n",
       "require([\"nbextensions/jupyter-vega/index\"], function(vega) {\n",
       "  var target = document.createElement(\"div\");\n",
       "  target.id = id;\n",
       "  target.className = \"vega-embed\";\n",
       "\n",
       "  var style = document.createElement(\"style\");\n",
       "  style.textContent = [\n",
       "    \".vega-embed .error p {\",\n",
       "    \"  color: firebrick;\",\n",
       "    \"  font-size: 14px;\",\n",
       "    \"}\",\n",
       "  ].join(\"\\\\n\");\n",
       "\n",
       "  // element is a jQuery wrapped DOM element inside the output area\n",
       "  // see http://ipython.readthedocs.io/en/stable/api/generated/\\\n",
       "  // IPython.display.html#IPython.display.Javascript.__init__\n",
       "  element[0].appendChild(target);\n",
       "  element[0].appendChild(style);\n",
       "\n",
       "  vega.render(\"#\" + id, spec, type, opt, output_area);\n",
       "}, function (err) {\n",
       "  if (err.requireType !== \"scripterror\") {\n",
       "    throw(err);\n",
       "  }\n",
       "});\n"
      ],
      "text/plain": [
       "<vega.vegalite.VegaLite at 0x11d612390>"
      ]
     },
     "metadata": {
      "jupyter-vega": "#abb95358-47e1-4825-b1ad-cfa520979193"
     },
     "output_type": "display_data"
    },
    {
     "data": {
      "text/plain": []
     },
     "execution_count": 104,
     "metadata": {},
     "output_type": "execute_result"
    },
    {
     "data": {
      "image/png": "[encoded data removed]"
     },
     "metadata": {
      "jupyter-vega": "#abb95358-47e1-4825-b1ad-cfa520979193"
     },
     "output_type": "display_data"
    }
   ],
   "source": [
    "source = sol_df\n",
    "\n",
    "points = alt.Chart().mark_point(filled=True, size=50).encode(\n",
    "    x= alt.X('method:O',axis=alt.Axis(title='') ),\n",
    "    y= alt.Y('mean:Q', axis=alt.Axis(title='score', grid=True)),\n",
    "    color = 'method:N'\n",
    ")\n",
    "\n",
    "CI_bars = points.mark_rule().encode(\n",
    "    x=\"method:O\",\n",
    "    y=\"lower_CI:Q\",\n",
    "    y2=\"upper_CI:Q\",\n",
    ")\n",
    "\n",
    "\n",
    "alt.layer(points, CI_bars, data=source).facet(\n",
    "    column= alt.Column('metric:N', title='RDKIT Solubility Dataset')\n",
    ")"
   ]
  },
  {
   "cell_type": "code",
   "execution_count": null,
   "metadata": {},
   "outputs": [],
   "source": []
  }
 ],
 "metadata": {
  "kernelspec": {
   "display_name": "Python 3",
   "language": "python",
   "name": "python3"
  },
  "language_info": {
   "codemirror_mode": {
    "name": "ipython",
    "version": 3
   },
   "file_extension": ".py",
   "mimetype": "text/x-python",
   "name": "python",
   "nbconvert_exporter": "python",
   "pygments_lexer": "ipython3",
   "version": "3.6.7"
  }
 },
 "nbformat": 4,
 "nbformat_minor": 2
}
